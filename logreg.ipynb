{
 "cells": [
  {
   "cell_type": "code",
   "execution_count": 1,
   "metadata": {},
   "outputs": [],
   "source": [
    "import numpy as np"
   ]
  },
  {
   "cell_type": "code",
   "execution_count": 2,
   "metadata": {},
   "outputs": [],
   "source": [
    "import sys, os\n",
    "sys.path.insert(0, os.path.abspath(os.path.join(os.getcwd(), '..')))"
   ]
  },
  {
   "cell_type": "code",
   "execution_count": 3,
   "metadata": {},
   "outputs": [],
   "source": [
    "from utils.helpers import load_csv_data, create_csv_submission\n"
   ]
  },
  {
   "cell_type": "code",
   "execution_count": 27,
   "metadata": {},
   "outputs": [],
   "source": [
    "x_train, x_test, y_train, train_ids, test_ids= load_csv_data(\"../dataset/\")"
   ]
  },
  {
   "cell_type": "code",
   "execution_count": 22,
   "metadata": {},
   "outputs": [],
   "source": [
    "ln = len(x_train)"
   ]
  },
  {
   "cell_type": "code",
   "execution_count": 28,
   "metadata": {},
   "outputs": [],
   "source": [
    "old_x_train = x_train\n",
    "old_y_train = y_train\n"
   ]
  },
  {
   "cell_type": "code",
   "execution_count": 29,
   "metadata": {},
   "outputs": [],
   "source": [
    "x_train = old_x_train[:int(ln*0.9)]\n",
    "y_train = old_y_train[:int(ln * 0.9)]\n",
    "x_test = old_x_train[int(ln*0.9):]\n",
    "y_test = old_y_train[int(ln*0.9):]"
   ]
  },
  {
   "cell_type": "code",
   "execution_count": null,
   "metadata": {},
   "outputs": [],
   "source": [
    "def logistic_regression(y, tx, initial_w, max_iters, gamma, weight):\n",
    "    \"\"\"Logistic regression using gradient descent. (y in {-1, 1})\n",
    "    \"\"\"\n",
    "    def stable_sigmoid(t):\n",
    "        \"\"\"Numerically stable sigmoid\"\"\"\n",
    "        return np.where(t >= 0, 1 / (1 + np.exp(-t)), \n",
    "                    np.exp(t) / (1 + np.exp(t)))\n",
    "\n",
    "    w = initial_w\n",
    "    for i in range(max_iters):\n",
    "        pred = tx @ w\n",
    "        weights = np.where(y == 1, weight, 1)\n",
    "        gradient = -tx.T @ (y * weights * stable_sigmoid(-y * pred)) / len(y)\n",
    "        w = w - gamma * gradient\n",
    "        loss = np.sum(weights * np.log(1 + np.exp(-y * (tx @ w)))) / len(y)\n",
    "        if i % 10 == 0:\n",
    "            print(loss,i)\n",
    "\n",
    "    return w, loss\n"
   ]
  },
  {
   "cell_type": "code",
   "execution_count": null,
   "metadata": {},
   "outputs": [],
   "source": [
    "def experiment(is_fix_nan, is_fix_outliers, is_normalize, is_remove_corr, is_weight):\n",
    "    # fixing nan\n",
    "    if is_fix_nan:\n",
    "        x_train = np.nan_to_num(x_train)\n",
    "        x_test = np.nan_to_num(x_test)\n",
    "    # removing outliers\n",
    "    if is_fix_outliers:\n",
    "        quant = np.quantile(x_train,0.9,axis=0)\n",
    "        x_train = np.minimum(x_train, quant)\n",
    "        x_test = np.minimum(x_test, quant)\n",
    "    # normalizing dataset\n",
    "    if is_normalize:\n",
    "        x_test -= np.min(x_train,axis=0)\n",
    "        x_train -= np.min(x_train,axis=0)\n",
    "        quant = np.max(x_train,axis=0)\n",
    "        x_train /= (quant+0.01)\n",
    "        x_test /= (quant+0.01)\n",
    "    # removing correlated features\n",
    "    if is_remove_corr:\n",
    "        arr = np.corrcoef(x_train,rowvar=False)\n",
    "        bad = []\n",
    "        good = []\n",
    "        for i in range(arr.shape[0]):\n",
    "            ok = True\n",
    "            for j in range(i):\n",
    "                if i != j and abs(arr[i][j]) > 0.8:\n",
    "                    ok = False\n",
    "            if ok:\n",
    "                good.append(i)\n",
    "            else:\n",
    "                bad.append(i)\n",
    "        x_train = x_train[:, good]\n",
    "        x_test = x_test[:, good]\n",
    "    # setting weight for cross entropy\n",
    "    if is_weight:\n",
    "        weight = 10\n",
    "    else:\n",
    "        weight = 1\n",
    "    w, loss = logistic_regression(y_train, x_train, np.zeros(x_train.shape[1]), 100, 0.1, weight)\n",
    "    y_tr = 2 * (x_test @ w > 0) - 1\n",
    "    print(\"METRICS\", np.mean(y_tr == y_test))\n",
    "    # f1 calculation\n",
    "    ind = (y_test == 1)\n",
    "    tp = sum(y_test[ind] == y_tr[ind])\n",
    "    fn = sum(y_test[ind] != y_tr[ind])\n",
    "    ind = (y_test == -1)\n",
    "    tn = sum(y_test[ind] == y_tr[ind])\n",
    "    fp = sum(y_test[ind] != y_tr[ind])\n",
    "    pr = tp / (tp + fp)\n",
    "    rec = tp / (tp + fn)\n",
    "    f1 = 2 * pr * rec / (pr + rec)\n",
    "    print(f1)\n",
    "    "
   ]
  },
  {
   "cell_type": "code",
   "execution_count": null,
   "metadata": {},
   "outputs": [
    {
     "name": "stdout",
     "output_type": "stream",
     "text": [
      "1.2224081172381267 0\n",
      "1.0802942149030645 10\n",
      "1.0089608618312393 20\n",
      "0.9686065271638179 30\n",
      "0.9434353572903723 40\n",
      "0.9265116495519762 50\n",
      "0.9144590818552418 60\n",
      "0.905482360782001 70\n",
      "0.8985550498147118 80\n",
      "0.8930542253511482 90\n",
      "METRICS 0.7504418845614677\n",
      "0.3601843894054223\n",
      "nan 0\n",
      "nan 10\n",
      "nan 20\n",
      "nan 30\n",
      "nan 40\n",
      "nan 50\n",
      "nan 60\n",
      "nan 70\n",
      "nan 80\n",
      "nan 90\n",
      "METRICS 0.9111354909489852\n",
      "nan\n"
     ]
    },
    {
     "name": "stderr",
     "output_type": "stream",
     "text": [
      "/tmp/ipykernel_1028/2065324134.py:45: RuntimeWarning: invalid value encountered in scalar divide\n",
      "  pr = tp / (tp + fp)\n"
     ]
    },
    {
     "name": "stdout",
     "output_type": "stream",
     "text": [
      "1.2358608689215391 0\n",
      "1.172238957247188 10\n",
      "1.1269543551894587 20\n",
      "1.0939242006831476 30\n",
      "1.0691997242853597 40\n",
      "1.0502154278096971 50\n",
      "1.0352863467166007 60\n",
      "1.0232862938801754 70\n",
      "1.013447313473999 80\n",
      "1.0052348814296548 90\n",
      "METRICS 0.6962881696836716\n",
      "0.3096425602660017\n"
     ]
    },
    {
     "name": "stderr",
     "output_type": "stream",
     "text": [
      "/tmp/ipykernel_1028/1429385892.py:17: RuntimeWarning: overflow encountered in exp\n",
      "  loss = np.sum(weights * np.log(1 + np.exp(-y * (tx @ w)))) / len(y)\n"
     ]
    },
    {
     "name": "stdout",
     "output_type": "stream",
     "text": [
      "inf 0\n"
     ]
    },
    {
     "name": "stderr",
     "output_type": "stream",
     "text": [
      "/tmp/ipykernel_1028/1429385892.py:7: RuntimeWarning: overflow encountered in exp\n",
      "  1 / (1 + np.exp(-t)),\n",
      "/tmp/ipykernel_1028/1429385892.py:8: RuntimeWarning: overflow encountered in exp\n",
      "  np.exp(t) / (1 + np.exp(t)))\n",
      "/tmp/ipykernel_1028/1429385892.py:8: RuntimeWarning: invalid value encountered in divide\n",
      "  np.exp(t) / (1 + np.exp(t)))\n"
     ]
    },
    {
     "name": "stdout",
     "output_type": "stream",
     "text": [
      "inf 10\n",
      "inf 20\n",
      "inf 30\n",
      "inf 50\n",
      "inf 60\n",
      "inf 70\n",
      "inf 80\n",
      "inf 90\n",
      "METRICS 0.9111354909489852\n",
      "nan\n",
      "1.1977582837497216 0\n",
      "1.5543156361076977 10\n",
      "1.181049407121708 20\n",
      "0.9960156802584094 30\n",
      "0.9275894417693256 40\n",
      "0.9019559035642835 50\n",
      "0.8915926129212914 60\n",
      "0.8860861433150916 70\n",
      "0.8821138596375849 80\n",
      "0.8788498159281175 90\n",
      "METRICS 0.7462058877308466\n",
      "0.3575065576299954\n",
      "0.29619074308735366 0\n",
      "0.2825697512396516 10\n",
      "0.27336814026552736 20\n",
      "0.2666162514759551 30\n",
      "0.26147139806385383 40\n",
      "0.25742937420193096 50\n",
      "0.25417432763609704 60\n",
      "0.25149965249193423 70\n",
      "0.24926488771020627 80\n",
      "0.24737127531030367 90\n",
      "METRICS 0.9111659657463278\n",
      "0.0006856359273225916\n"
     ]
    }
   ],
   "source": [
    "experiment(1,1,1,1,1)\n",
    "experiment(0,1,1,1,1)\n",
    "experiment(1,0,1,1,1)\n",
    "experiment(1,1,0,1,1)\n",
    "experiment(1,1,1,0,1)\n",
    "experiment(1,1,1,0,1)"
   ]
  }
 ],
 "metadata": {
  "kernelspec": {
   "display_name": "Python 3 (ipykernel)",
   "language": "python",
   "name": "python3"
  },
  "language_info": {
   "codemirror_mode": {
    "name": "ipython",
    "version": 3
   },
   "file_extension": ".py",
   "mimetype": "text/x-python",
   "name": "python",
   "nbconvert_exporter": "python",
   "pygments_lexer": "ipython3",
   "version": "3.10.12"
  }
 },
 "nbformat": 4,
 "nbformat_minor": 4
}
